{
 "cells": [
  {
   "cell_type": "code",
   "execution_count": 6,
   "metadata": {},
   "outputs": [],
   "source": [
    "import sys\n",
    "import numpy as np  # linear algebra\n",
    "import pandas as pd  # data processing, CSV file I/O (e.g. pd.read_csv)\n",
    "import os\n",
    "\n",
    "sys.path.append(\"kaggle/input/neurips-open-polymer-prediction-2025\")\n",
    "base_path = \"kaggle/input/neurips-open-polymer-prediction-2025/\"\n",
    "supplement_path = \"kaggle/input/neurips-open-polymer-prediction-2025/train_supplement/\"\n",
    "tc_smiles_path = \"kaggle/input/tc-smiles/\"\n",
    "smiles_extra_data_path = \"kaggle/input/smiles-extra-data/\""
   ]
  },
  {
   "cell_type": "code",
   "execution_count": 7,
   "metadata": {},
   "outputs": [
    {
     "ename": "IndentationError",
     "evalue": "unexpected indent (model.py, line 55)",
     "output_type": "error",
     "traceback": [
      "Traceback \u001b[0;36m(most recent call last)\u001b[0m:\n",
      "\u001b[0m  File \u001b[1;32m/scratch/e1350261/venvs/ai39/lib64/python3.9/site-packages/IPython/core/interactiveshell.py:3550\u001b[0m in \u001b[1;35mrun_code\u001b[0m\n    exec(code_obj, self.user_global_ns, self.user_ns)\u001b[0m\n",
      "\u001b[0m  Cell \u001b[1;32mIn[7], line 2\u001b[0m\n    from train import pretrain_qm9\u001b[0m\n",
      "\u001b[0;36m  File \u001b[0;32m/nfs/home/svu/e1350261/kaggle/kaggle-neurips-0907/train.py:8\u001b[0;36m\n\u001b[0;31m    from model import WDMPNNModel\u001b[0;36m\n",
      "\u001b[0;36m  File \u001b[0;32m/nfs/home/svu/e1350261/kaggle/kaggle-neurips-0907/model.py:55\u001b[0;36m\u001b[0m\n\u001b[0;31m    def __init__(self,\u001b[0m\n\u001b[0m    ^\u001b[0m\n\u001b[0;31mIndentationError\u001b[0m\u001b[0;31m:\u001b[0m unexpected indent\n"
     ]
    }
   ],
   "source": [
    "from data_preparation import load_qm9_dataset\n",
    "from train import pretrain_qm9\n",
    "\n",
    "loader, dataset = load_qm9_dataset(root=\"/kaggle/input/qm9\", batch_size=64)\n",
    "device = \"cuda\" if torch.cuda.is_available() else \"cpu\"\n",
    "pre_model, pre_hist = pretrain_qm9(loader, dataset, epochs=5, device=device)\n"
   ]
  },
  {
   "cell_type": "code",
   "execution_count": null,
   "metadata": {},
   "outputs": [],
   "source": []
  }
 ],
 "metadata": {
  "kernelspec": {
   "display_name": "ai39",
   "language": "python",
   "name": "python3"
  },
  "language_info": {
   "codemirror_mode": {
    "name": "ipython",
    "version": 3
   },
   "file_extension": ".py",
   "mimetype": "text/x-python",
   "name": "python",
   "nbconvert_exporter": "python",
   "pygments_lexer": "ipython3",
   "version": "3.9.18"
  },
  "orig_nbformat": 4,
  "vscode": {
   "interpreter": {
    "hash": "86715117325bb669dcee076931360a6797c084140656b2fef4bf943c7ad69ff7"
   }
  }
 },
 "nbformat": 4,
 "nbformat_minor": 2
}
