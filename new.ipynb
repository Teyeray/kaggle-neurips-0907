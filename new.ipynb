{
 "cells": [
  {
   "cell_type": "code",
   "execution_count": 1,
   "id": "84a546a3",
   "metadata": {},
   "outputs": [],
   "source": [
    "import sys\n",
    "import numpy as np  # linear algebra\n",
    "import pandas as pd  # data processing, CSV file I/O (e.g. pd.read_csv)\n",
    "import os\n",
    "\n",
    "sys.path.append(\"kaggle/input/neurips-open-polymer-prediction-2025\")\n",
    "base_path = \"kaggle/input/neurips-open-polymer-prediction-2025/\"\n",
    "supplement_path = \"kaggle/input/neurips-open-polymer-prediction-2025/train_supplement/\"\n",
    "tc_smiles_path = \"kaggle/input/tc-smiles/\"\n",
    "smiles_extra_data_path = \"kaggle/input/smiles-extra-data/\""
   ]
  },
  {
   "cell_type": "code",
   "execution_count": 2,
   "id": "5879fe33",
   "metadata": {},
   "outputs": [
    {
     "name": "stdout",
     "output_type": "stream",
     "text": [
      "/scratch/e1350261/venvs/ai39/bin/python\n"
     ]
    }
   ],
   "source": [
    "import sys\n",
    "print(sys.executable)"
   ]
  },
  {
   "cell_type": "code",
   "execution_count": 3,
   "id": "682a03cf-d843-455a-8763-b30466cc4d48",
   "metadata": {},
   "outputs": [
    {
     "name": "stdout",
     "output_type": "stream",
     "text": [
      "numpy = 1.26.4\n",
      "rdkit = 2023.09.6\n",
      "/scratch/e1350261/venvs/ai39/bin/python\n"
     ]
    }
   ],
   "source": [
    "import numpy, rdkit, openpyxl\n",
    "import importlib, sys\n",
    "print(\"numpy =\", numpy.__version__)\n",
    "print(\"rdkit =\", importlib.import_module('rdkit').__version__)\n",
    "print(sys.executable)"
   ]
  },
  {
   "cell_type": "code",
   "execution_count": null,
   "id": "5b6526e4",
   "metadata": {},
   "outputs": [],
   "source": [
    "from data_preparation import "
   ]
  },
  {
   "cell_type": "code",
   "execution_count": 4,
   "id": "2a24801c-6a44-4197-b541-cb45c1197a94",
   "metadata": {},
   "outputs": [
    {
     "name": "stdout",
     "output_type": "stream",
     "text": [
      "kaggle\tnew.ipynb  README.md\n"
     ]
    }
   ],
   "source": [
    "!ls"
   ]
  },
  {
   "cell_type": "code",
   "execution_count": 5,
   "id": "a813061a",
   "metadata": {},
   "outputs": [],
   "source": [
    "PROPERTIES = [\"Tg\", \"FFV\", \"Tc\", \"Density\", \"Rg\"]"
   ]
  },
  {
   "cell_type": "code",
   "execution_count": 6,
   "id": "987434e1",
   "metadata": {},
   "outputs": [
    {
     "name": "stdout",
     "output_type": "stream",
     "text": [
      "train data shape:(7973, 7)\n"
     ]
    },
    {
     "data": {
      "text/plain": [
       "Index(['id', 'SMILES', 'Tg', 'FFV', 'Tc', 'Density', 'Rg'], dtype='object')"
      ]
     },
     "execution_count": 6,
     "metadata": {},
     "output_type": "execute_result"
    }
   ],
   "source": [
    "train_df = pd.read_csv(base_path + \"train.csv\")\n",
    "print(f\"train data shape:{train_df.shape}\")\n",
    "train_df.columns"
   ]
  },
  {
   "cell_type": "code",
   "execution_count": 7,
   "id": "50c2081a",
   "metadata": {},
   "outputs": [],
   "source": [
    "test_df = pd.read_csv(os.path.join(base_path, \"test.csv\"))\n",
    "dataset_1 = pd.read_csv(os.path.join(supplement_path, \"dataset1.csv\"))\n",
    "dataset_2 = pd.read_csv(os.path.join(supplement_path, \"dataset2.csv\"))\n",
    "dataset_3 = pd.read_csv(os.path.join(supplement_path, \"dataset3.csv\"))\n",
    "dataset_4 = pd.read_csv(os.path.join(supplement_path, \"dataset4.csv\"))\n",
    "tc_smiles = pd.read_csv(os.path.join(tc_smiles_path, \"Tc_SMILES.csv\"))\n",
    "bigsmiles = pd.read_csv(os.path.join(smiles_extra_data_path, \"JCIM_sup_bigsmiles.csv\"))\n",
    "dnst1 = pd.read_excel(os.path.join(smiles_extra_data_path, \"data_dnst1.xlsx\"))\n",
    "tg3 = pd.read_excel(os.path.join(smiles_extra_data_path, \"data_tg3.xlsx\"))\n",
    "\n",
    "# 放入dict\n",
    "df_dict = {\n",
    "    \"test_df\": test_df,\n",
    "    \"dataset_1\": dataset_1,\n",
    "    \"dataset_2\": dataset_2,\n",
    "    \"dataset_3\": dataset_3,\n",
    "    \"dataset_4\": dataset_4,\n",
    "    \"tc_smiles\": tc_smiles,\n",
    "    \"bigsmiles\": bigsmiles,\n",
    "    \"dnst1\": dnst1,\n",
    "    \"tg3\": tg3,\n",
    "}"
   ]
  },
  {
   "cell_type": "code",
   "execution_count": 8,
   "id": "b35ca70c",
   "metadata": {},
   "outputs": [
    {
     "name": "stdout",
     "output_type": "stream",
     "text": [
      "name:  test_df,   columns:  Index(['id', 'SMILES'], dtype='object'),      shape:(3, 2)\n",
      "\n",
      "name:  dataset_1,   columns:  Index(['SMILES', 'TC_mean'], dtype='object'),      shape:(874, 2)\n",
      "\n",
      "name:  dataset_2,   columns:  Index(['SMILES'], dtype='object'),      shape:(7208, 1)\n",
      "\n",
      "name:  dataset_3,   columns:  Index(['SMILES', 'Tg'], dtype='object'),      shape:(46, 2)\n",
      "\n",
      "name:  dataset_4,   columns:  Index(['SMILES', 'FFV'], dtype='object'),      shape:(862, 2)\n",
      "\n",
      "name:  tc_smiles,   columns:  Index(['TC_mean', 'SMILES'], dtype='object'),      shape:(874, 2)\n",
      "\n",
      "name:  bigsmiles,   columns:  Index(['Unnamed: 0', 'SMILES', 'BigSMILES', 'Tg (C)'], dtype='object'),      shape:(662, 4)\n",
      "\n",
      "name:  dnst1,   columns:  Index(['SMILES', 'uSMILES', 'std_name', 'density(g/cm3)',\n",
      "       'density_std_err(g/cm3)', 'abbreviations', 'synonyms', 'tradenames'],\n",
      "      dtype='object'),      shape:(787, 8)\n",
      "\n",
      "name:  tg3,   columns:  Index(['SMILES', 'Tg [K]'], dtype='object'),      shape:(501, 2)\n",
      "\n"
     ]
    }
   ],
   "source": [
    "for name, df in df_dict.items():\n",
    "    print(f\"name:  {name},   columns:  {df.columns},      shape:{df.shape}\\n\")"
   ]
  },
  {
   "cell_type": "code",
   "execution_count": 9,
   "id": "bc9f33e2",
   "metadata": {},
   "outputs": [],
   "source": [
    "from rdkit import Chem\n",
    "\n",
    "\n",
    "def standardize_dataset(df, reference_df, prefix, rename_map=None):\n",
    "    \"\"\"\n",
    "    标准化 dataset，以便和 reference_df 合并。\n",
    "\n",
    "    Args:\n",
    "        df (pd.DataFrame): 要标准化的数据集（例如 dataset1、dataset3 等）。\n",
    "        reference_df (pd.DataFrame): 用于参考列结构（如原始 train_df）。\n",
    "        prefix (str): 添加到 `id` 前缀（如 'sup1_'）。\n",
    "        rename_map (dict, optional): 要重命名的列名映射（如 {'TC_mean': 'Tc'}）。\n",
    "\n",
    "    Returns:\n",
    "        pd.DataFrame: 处理完的 DataFrame，列顺序与 reference_df 保持一致。\n",
    "    \"\"\"\n",
    "    df_processed = df.copy()\n",
    "\n",
    "    # 清洗 SMILES 列\n",
    "    if \"SMILES\" in df_processed.columns:\n",
    "        df_processed[\"SMILES\"] = df_processed[\"SMILES\"].apply(make_smile_canonical)\n",
    "        # 处理无效 SMILES\n",
    "        df_processed = df_processed[df_processed[\"SMILES\"].notna()]\n",
    "    # 重命名列（如 {'TC_mean': 'Tc'}）\n",
    "    if rename_map:\n",
    "        df_processed.rename(columns=rename_map, inplace=True)\n",
    "\n",
    "    # 添加唯一 id（避免与原数据冲突）\n",
    "    df_processed[\"id\"] = prefix + df_processed.index.astype(str)\n",
    "\n",
    "    # 补齐 reference_df 中的缺失列\n",
    "    for col in reference_df.columns:\n",
    "        if col not in df_processed.columns:\n",
    "            df_processed[col] = np.nan\n",
    "\n",
    "    # 确保列顺序一致\n",
    "    df_processed = df_processed[reference_df.columns]\n",
    "\n",
    "    return df_processed\n",
    "\n",
    "\n",
    "def make_smile_canonical(smile):\n",
    "    \"\"\"清洗并标准化 SMILES\"\"\"\n",
    "    try:\n",
    "        mol = Chem.MolFromSmiles(smile)\n",
    "        if mol is None:\n",
    "            print(f\"Invalid SMILES: {smile}\")\n",
    "            return np.nan\n",
    "        smi = Chem.MolToSmiles(mol, canonical=True)\n",
    "        # print(f\"Processed SMILES: {smi}\")\n",
    "        if not smi:\n",
    "            print(f\"Empty SMILES after processing: {smile}\")\n",
    "            return np.nan\n",
    "        return smi\n",
    "    except:\n",
    "        print(f\"Error processing SMILES: {smile}\")\n",
    "        return np.nan\n",
    "\n",
    "\n",
    "def merge_with_check(data, new_data, target_col=None):\n",
    "    \"\"\"\n",
    "    将 new_data 合并进 data，根据 SMILES 去重。\n",
    "    如果 target_col 指定了，则会尝试将该列值合并，并统计已有值和新值的偏差。\n",
    "    如果 target_col 为 None，则只合并 SMILES，不做属性值检查。\n",
    "    \"\"\"\n",
    "    data = data.copy()\n",
    "\n",
    "    no_add_count = 0\n",
    "    existing_vals = []\n",
    "    new_vals = []\n",
    "    rows_to_append = []\n",
    "\n",
    "    for idx, row in new_data.iterrows():\n",
    "        smi = row[\"SMILES\"]\n",
    "        matched = data[data[\"SMILES\"] == smi]\n",
    "\n",
    "        if len(matched) > 0:\n",
    "            if target_col is not None and target_col in row:\n",
    "                existing_val = matched.iloc[0][target_col]\n",
    "                new_val = row[target_col]\n",
    "\n",
    "                if pd.isna(existing_val):\n",
    "                    data.loc[matched.index[0], target_col] = new_val\n",
    "                else:\n",
    "                    no_add_count += 1\n",
    "                    existing_vals.append(existing_val)\n",
    "                    new_vals.append(new_val)\n",
    "            else:\n",
    "                # SMILES已存在，但不处理值\n",
    "                continue\n",
    "        else:\n",
    "            # SMILES 不在 data 中，直接加\n",
    "            rows_to_append.append(row)\n",
    "\n",
    "    if rows_to_append:\n",
    "        data = pd.concat([data, pd.DataFrame(rows_to_append)], ignore_index=True)\n",
    "\n",
    "    if target_col is not None and no_add_count > 0 and existing_vals:\n",
    "        existing_vals = np.array(existing_vals)\n",
    "        new_vals = np.array(new_vals)\n",
    "        mae = np.mean(np.abs(existing_vals - new_vals))\n",
    "        rmse = np.sqrt(np.mean((existing_vals - new_vals) ** 2))\n",
    "        mean_diff = np.mean(existing_vals - new_vals)\n",
    "\n",
    "        print(f\"共发现重复SMILES且未添加{target_col}的行数: {no_add_count}\")\n",
    "        print(\"\\n📊 属性偏差统计（跳过更新的行）：\")\n",
    "        print(f\"  ➤ 平均绝对误差 (MAE): {mae:.4f}\")\n",
    "        print(f\"  ➤ 均方根误差 (RMSE): {rmse:.4f}\")\n",
    "        print(f\"  ➤ 平均差（已有值 - 新值）: {mean_diff:.4f}\")\n",
    "    else:\n",
    "        if target_col:\n",
    "            print(\"✅ 没有重复且已有值的 SMILES，无需计算偏差。\")\n",
    "        else:\n",
    "            print(f\"✅ 已合并，未指定属性列（target_col=None），仅根据 SMILES 去重。\")\n",
    "\n",
    "    return data"
   ]
  },
  {
   "cell_type": "code",
   "execution_count": 10,
   "id": "671653cc",
   "metadata": {},
   "outputs": [
    {
     "name": "stdout",
     "output_type": "stream",
     "text": [
      "Index(['id', 'SMILES', 'Tg', 'FFV', 'Tc', 'Density', 'Rg'], dtype='object')\n"
     ]
    },
    {
     "data": {
      "text/html": [
       "<div>\n",
       "<style scoped>\n",
       "    .dataframe tbody tr th:only-of-type {\n",
       "        vertical-align: middle;\n",
       "    }\n",
       "\n",
       "    .dataframe tbody tr th {\n",
       "        vertical-align: top;\n",
       "    }\n",
       "\n",
       "    .dataframe thead th {\n",
       "        text-align: right;\n",
       "    }\n",
       "</style>\n",
       "<table border=\"1\" class=\"dataframe\">\n",
       "  <thead>\n",
       "    <tr style=\"text-align: right;\">\n",
       "      <th></th>\n",
       "      <th>id</th>\n",
       "      <th>Tg</th>\n",
       "      <th>FFV</th>\n",
       "      <th>Tc</th>\n",
       "      <th>Density</th>\n",
       "      <th>Rg</th>\n",
       "    </tr>\n",
       "  </thead>\n",
       "  <tbody>\n",
       "    <tr>\n",
       "      <th>count</th>\n",
       "      <td>7.973000e+03</td>\n",
       "      <td>511.000000</td>\n",
       "      <td>7030.000000</td>\n",
       "      <td>737.000000</td>\n",
       "      <td>613.000000</td>\n",
       "      <td>614.000000</td>\n",
       "    </tr>\n",
       "    <tr>\n",
       "      <th>mean</th>\n",
       "      <td>1.080050e+09</td>\n",
       "      <td>96.452314</td>\n",
       "      <td>0.367212</td>\n",
       "      <td>0.256334</td>\n",
       "      <td>0.985484</td>\n",
       "      <td>16.419787</td>\n",
       "    </tr>\n",
       "    <tr>\n",
       "      <th>std</th>\n",
       "      <td>6.218241e+08</td>\n",
       "      <td>111.228279</td>\n",
       "      <td>0.029609</td>\n",
       "      <td>0.089538</td>\n",
       "      <td>0.146189</td>\n",
       "      <td>4.608640</td>\n",
       "    </tr>\n",
       "    <tr>\n",
       "      <th>min</th>\n",
       "      <td>8.781700e+04</td>\n",
       "      <td>-148.029738</td>\n",
       "      <td>0.226992</td>\n",
       "      <td>0.046500</td>\n",
       "      <td>0.748691</td>\n",
       "      <td>9.728355</td>\n",
       "    </tr>\n",
       "    <tr>\n",
       "      <th>25%</th>\n",
       "      <td>5.376641e+08</td>\n",
       "      <td>13.674509</td>\n",
       "      <td>0.349549</td>\n",
       "      <td>0.186000</td>\n",
       "      <td>0.890243</td>\n",
       "      <td>12.540328</td>\n",
       "    </tr>\n",
       "    <tr>\n",
       "      <th>50%</th>\n",
       "      <td>1.079079e+09</td>\n",
       "      <td>74.040183</td>\n",
       "      <td>0.364264</td>\n",
       "      <td>0.236000</td>\n",
       "      <td>0.948193</td>\n",
       "      <td>15.052194</td>\n",
       "    </tr>\n",
       "    <tr>\n",
       "      <th>75%</th>\n",
       "      <td>1.621708e+09</td>\n",
       "      <td>161.147595</td>\n",
       "      <td>0.380790</td>\n",
       "      <td>0.330500</td>\n",
       "      <td>1.062096</td>\n",
       "      <td>20.411067</td>\n",
       "    </tr>\n",
       "    <tr>\n",
       "      <th>max</th>\n",
       "      <td>2.147438e+09</td>\n",
       "      <td>472.250000</td>\n",
       "      <td>0.777097</td>\n",
       "      <td>0.524000</td>\n",
       "      <td>1.840999</td>\n",
       "      <td>34.672906</td>\n",
       "    </tr>\n",
       "  </tbody>\n",
       "</table>\n",
       "</div>"
      ],
      "text/plain": [
       "                 id          Tg          FFV          Tc     Density  \\\n",
       "count  7.973000e+03  511.000000  7030.000000  737.000000  613.000000   \n",
       "mean   1.080050e+09   96.452314     0.367212    0.256334    0.985484   \n",
       "std    6.218241e+08  111.228279     0.029609    0.089538    0.146189   \n",
       "min    8.781700e+04 -148.029738     0.226992    0.046500    0.748691   \n",
       "25%    5.376641e+08   13.674509     0.349549    0.186000    0.890243   \n",
       "50%    1.079079e+09   74.040183     0.364264    0.236000    0.948193   \n",
       "75%    1.621708e+09  161.147595     0.380790    0.330500    1.062096   \n",
       "max    2.147438e+09  472.250000     0.777097    0.524000    1.840999   \n",
       "\n",
       "               Rg  \n",
       "count  614.000000  \n",
       "mean    16.419787  \n",
       "std      4.608640  \n",
       "min      9.728355  \n",
       "25%     12.540328  \n",
       "50%     15.052194  \n",
       "75%     20.411067  \n",
       "max     34.672906  "
      ]
     },
     "execution_count": 10,
     "metadata": {},
     "output_type": "execute_result"
    }
   ],
   "source": [
    "data = train_df.copy()\n",
    "print(data.columns)\n",
    "data.describe()"
   ]
  },
  {
   "cell_type": "code",
   "execution_count": 11,
   "id": "9bdcb1fd",
   "metadata": {},
   "outputs": [],
   "source": [
    "data[\"SMILES\"] = data[\"SMILES\"].apply(make_smile_canonical)"
   ]
  },
  {
   "cell_type": "code",
   "execution_count": 12,
   "id": "7bd6ba5f",
   "metadata": {},
   "outputs": [
    {
     "name": "stdout",
     "output_type": "stream",
     "text": [
      "共发现重复SMILES且未添加Tc的行数: 744\n",
      "\n",
      "📊 属性偏差统计（跳过更新的行）：\n",
      "  ➤ 平均绝对误差 (MAE): 0.0005\n",
      "  ➤ 均方根误差 (RMSE): 0.0070\n",
      "  ➤ 平均差（已有值 - 新值）: 0.0000\n",
      "8103\n"
     ]
    },
    {
     "data": {
      "text/html": [
       "<div>\n",
       "<style scoped>\n",
       "    .dataframe tbody tr th:only-of-type {\n",
       "        vertical-align: middle;\n",
       "    }\n",
       "\n",
       "    .dataframe tbody tr th {\n",
       "        vertical-align: top;\n",
       "    }\n",
       "\n",
       "    .dataframe thead th {\n",
       "        text-align: right;\n",
       "    }\n",
       "</style>\n",
       "<table border=\"1\" class=\"dataframe\">\n",
       "  <thead>\n",
       "    <tr style=\"text-align: right;\">\n",
       "      <th></th>\n",
       "      <th>Tg</th>\n",
       "      <th>FFV</th>\n",
       "      <th>Tc</th>\n",
       "      <th>Density</th>\n",
       "      <th>Rg</th>\n",
       "    </tr>\n",
       "  </thead>\n",
       "  <tbody>\n",
       "    <tr>\n",
       "      <th>count</th>\n",
       "      <td>511.000000</td>\n",
       "      <td>7030.000000</td>\n",
       "      <td>867.000000</td>\n",
       "      <td>613.000000</td>\n",
       "      <td>614.000000</td>\n",
       "    </tr>\n",
       "    <tr>\n",
       "      <th>mean</th>\n",
       "      <td>96.452314</td>\n",
       "      <td>0.367212</td>\n",
       "      <td>0.256539</td>\n",
       "      <td>0.985484</td>\n",
       "      <td>16.419787</td>\n",
       "    </tr>\n",
       "    <tr>\n",
       "      <th>std</th>\n",
       "      <td>111.228279</td>\n",
       "      <td>0.029609</td>\n",
       "      <td>0.101271</td>\n",
       "      <td>0.146189</td>\n",
       "      <td>4.608640</td>\n",
       "    </tr>\n",
       "    <tr>\n",
       "      <th>min</th>\n",
       "      <td>-148.029738</td>\n",
       "      <td>0.226992</td>\n",
       "      <td>0.046500</td>\n",
       "      <td>0.748691</td>\n",
       "      <td>9.728355</td>\n",
       "    </tr>\n",
       "    <tr>\n",
       "      <th>25%</th>\n",
       "      <td>13.674509</td>\n",
       "      <td>0.349549</td>\n",
       "      <td>0.186167</td>\n",
       "      <td>0.890243</td>\n",
       "      <td>12.540328</td>\n",
       "    </tr>\n",
       "    <tr>\n",
       "      <th>50%</th>\n",
       "      <td>74.040183</td>\n",
       "      <td>0.364264</td>\n",
       "      <td>0.236000</td>\n",
       "      <td>0.948193</td>\n",
       "      <td>15.052194</td>\n",
       "    </tr>\n",
       "    <tr>\n",
       "      <th>75%</th>\n",
       "      <td>161.147595</td>\n",
       "      <td>0.380790</td>\n",
       "      <td>0.325000</td>\n",
       "      <td>1.062096</td>\n",
       "      <td>20.411067</td>\n",
       "    </tr>\n",
       "    <tr>\n",
       "      <th>max</th>\n",
       "      <td>472.250000</td>\n",
       "      <td>0.777097</td>\n",
       "      <td>1.590000</td>\n",
       "      <td>1.840999</td>\n",
       "      <td>34.672906</td>\n",
       "    </tr>\n",
       "  </tbody>\n",
       "</table>\n",
       "</div>"
      ],
      "text/plain": [
       "               Tg          FFV          Tc     Density          Rg\n",
       "count  511.000000  7030.000000  867.000000  613.000000  614.000000\n",
       "mean    96.452314     0.367212    0.256539    0.985484   16.419787\n",
       "std    111.228279     0.029609    0.101271    0.146189    4.608640\n",
       "min   -148.029738     0.226992    0.046500    0.748691    9.728355\n",
       "25%     13.674509     0.349549    0.186167    0.890243   12.540328\n",
       "50%     74.040183     0.364264    0.236000    0.948193   15.052194\n",
       "75%    161.147595     0.380790    0.325000    1.062096   20.411067\n",
       "max    472.250000     0.777097    1.590000    1.840999   34.672906"
      ]
     },
     "execution_count": 12,
     "metadata": {},
     "output_type": "execute_result"
    }
   ],
   "source": [
    "# preaparing data\n",
    "\n",
    "# dataset_1\n",
    "dataset1_processed = standardize_dataset(\n",
    "    dataset_1, data, prefix=\"sup1_\", rename_map={\"TC_mean\": \"Tc\"}\n",
    ")\n",
    "# print(dataset1_processed.head(3))\n",
    "data = merge_with_check(data, dataset1_processed, target_col=\"Tc\")\n",
    "print(data[\"SMILES\"].count())\n",
    "data.describe()"
   ]
  },
  {
   "cell_type": "code",
   "execution_count": 13,
   "id": "e39ba0cf",
   "metadata": {},
   "outputs": [
    {
     "name": "stdout",
     "output_type": "stream",
     "text": [
      "✅ 已合并，未指定属性列（target_col=None），仅根据 SMILES 去重。\n"
     ]
    }
   ],
   "source": [
    "# dataset_2\n",
    "dataset_2_processed = dataset_2.copy()\n",
    "dataset_2_processed[\"SMILES\"] = dataset_2_processed[\"SMILES\"].apply(\n",
    "    make_smile_canonical\n",
    ")\n",
    "# 添加唯一 id（避免与原数据冲突）\n",
    "dataset_2_processed[\"id\"] = \"sup2_\" + dataset_2_processed.index.astype(str)\n",
    "for col in PROPERTIES:\n",
    "    if col not in dataset_2_processed.columns:\n",
    "        dataset_2_processed[col] = np.nan\n",
    "dataset_2_processed = dataset_2_processed[data.columns]\n",
    "data = merge_with_check(data, dataset_2_processed)"
   ]
  },
  {
   "cell_type": "code",
   "execution_count": 14,
   "id": "b130f74a",
   "metadata": {},
   "outputs": [
    {
     "name": "stdout",
     "output_type": "stream",
     "text": [
      "id: 0\n",
      "SMILES: 0\n",
      "Tg: 9527\n",
      "FFV: 3008\n",
      "Tc: 9171\n",
      "Density: 9425\n",
      "Rg: 9424\n"
     ]
    }
   ],
   "source": [
    "for col in data.columns:\n",
    "    print(f\"{col}: {data[col].isna().sum()}\")"
   ]
  },
  {
   "cell_type": "code",
   "execution_count": 15,
   "id": "229727d6",
   "metadata": {},
   "outputs": [
    {
     "data": {
      "text/plain": [
       "10038"
      ]
     },
     "execution_count": 15,
     "metadata": {},
     "output_type": "execute_result"
    }
   ],
   "source": [
    "data[\"SMILES\"].count()"
   ]
  },
  {
   "cell_type": "markdown",
   "id": "39aeb21a",
   "metadata": {},
   "source": [
    "- computing data3"
   ]
  },
  {
   "cell_type": "code",
   "execution_count": 16,
   "id": "9c19702f",
   "metadata": {},
   "outputs": [
    {
     "name": "stdout",
     "output_type": "stream",
     "text": [
      "count: 511\n",
      "               Tg\n",
      "count  511.000000\n",
      "mean    96.452314\n",
      "std    111.228279\n",
      "min   -148.029738\n",
      "25%     13.674509\n",
      "50%     74.040183\n",
      "75%    161.147595\n",
      "max    472.250000\n"
     ]
    },
    {
     "data": {
      "text/html": [
       "<div>\n",
       "<style scoped>\n",
       "    .dataframe tbody tr th:only-of-type {\n",
       "        vertical-align: middle;\n",
       "    }\n",
       "\n",
       "    .dataframe tbody tr th {\n",
       "        vertical-align: top;\n",
       "    }\n",
       "\n",
       "    .dataframe thead th {\n",
       "        text-align: right;\n",
       "    }\n",
       "</style>\n",
       "<table border=\"1\" class=\"dataframe\">\n",
       "  <thead>\n",
       "    <tr style=\"text-align: right;\">\n",
       "      <th></th>\n",
       "      <th>SMILES</th>\n",
       "      <th>Tg</th>\n",
       "    </tr>\n",
       "  </thead>\n",
       "  <tbody>\n",
       "    <tr>\n",
       "      <th>40</th>\n",
       "      <td>*NC(C)C(=O)NCC(=O)NCC(*)=O</td>\n",
       "      <td>208.639749</td>\n",
       "    </tr>\n",
       "    <tr>\n",
       "      <th>57</th>\n",
       "      <td>*CCCCCCSSCCCCSS*</td>\n",
       "      <td>-41.266724</td>\n",
       "    </tr>\n",
       "    <tr>\n",
       "      <th>63</th>\n",
       "      <td>*C=CCCCCCCCC*</td>\n",
       "      <td>-17.282022</td>\n",
       "    </tr>\n",
       "  </tbody>\n",
       "</table>\n",
       "</div>"
      ],
      "text/plain": [
       "                        SMILES          Tg\n",
       "40  *NC(C)C(=O)NCC(=O)NCC(*)=O  208.639749\n",
       "57            *CCCCCCSSCCCCSS*  -41.266724\n",
       "63               *C=CCCCCCCCC*  -17.282022"
      ]
     },
     "execution_count": 16,
     "metadata": {},
     "output_type": "execute_result"
    }
   ],
   "source": [
    "data_xgboost = data[[\"SMILES\", \"Tg\"]].dropna(subset=[\"SMILES\", \"Tg\"])\n",
    "print(\"count:\", data_xgboost[\"SMILES\"].count())\n",
    "print(data_xgboost.describe())\n",
    "data_xgboost.head(3)"
   ]
  },
  {
   "cell_type": "code",
   "execution_count": 17,
   "id": "f60293bb",
   "metadata": {},
   "outputs": [],
   "source": [
    "from mordred import Calculator, descriptors\n",
    "from sklearn.model_selection import train_test_split\n",
    "from sklearn.metrics import mean_absolute_error, mean_squared_error, r2_score\n",
    "import xgboost as xgb\n",
    "from sklearn.preprocessing import StandardScaler"
   ]
  },
  {
   "cell_type": "code",
   "execution_count": 18,
   "id": "2173d923",
   "metadata": {},
   "outputs": [],
   "source": [
    "from tqdm import tqdm\n",
    "\n",
    "\n",
    "def compute_mordred_features(smiles_list):\n",
    "    calc = Calculator(descriptors, ignore_3D=True)\n",
    "    mols = [Chem.MolFromSmiles(smi) for smi in smiles_list]\n",
    "\n",
    "    valid_indices = [i for i, mol in enumerate(mols) if mol is not None]\n",
    "    valid_mols = [mols[i] for i in valid_indices]\n",
    "\n",
    "    df = calc.pandas(valid_mols)\n",
    "    print(\n",
    "        f\"Computed {len(df.columns)} Mordred descriptors for {len(valid_mols)} valid molecules.\"\n",
    "    )\n",
    "    return df, valid_indices"
   ]
  },
  {
   "cell_type": "code",
   "execution_count": 19,
   "id": "fe15226c",
   "metadata": {},
   "outputs": [
    {
     "name": "stderr",
     "output_type": "stream",
     "text": [
      "  1%|▏         | 7/511 [00:01<01:43,  4.89it/s]"
     ]
    },
    {
     "name": "stdout",
     "output_type": "stream",
     "text": [
      "/scratch/e1350261/venvs/ai39/lib64/python3.9/site-packages/numpy/core/fromnumeric.py:88: RuntimeWarning: overflow encountered in reduce\n",
      "  return ufunc.reduce(obj, axis, dtype, out, **passkwargs)\n"
     ]
    },
    {
     "name": "stderr",
     "output_type": "stream",
     "text": [
      " 25%|██▌       | 130/511 [00:01<00:02, 127.77it/s]"
     ]
    },
    {
     "name": "stdout",
     "output_type": "stream",
     "text": [
      "/scratch/e1350261/venvs/ai39/lib64/python3.9/site-packages/numpy/core/fromnumeric.py:88: RuntimeWarning: overflow encountered in reduce\n",
      "  return ufunc.reduce(obj, axis, dtype, out, **passkwargs)\n",
      "/scratch/e1350261/venvs/ai39/lib64/python3.9/site-packages/numpy/core/fromnumeric.py:88: RuntimeWarning: overflow encountered in reduce\n",
      "  return ufunc.reduce(obj, axis, dtype, out, **passkwargs)\n",
      "/scratch/e1350261/venvs/ai39/lib64/python3.9/site-packages/numpy/core/fromnumeric.py:88: RuntimeWarning: overflow encountered in reduce\n",
      "  return ufunc.reduce(obj, axis, dtype, out, **passkwargs)\n",
      "/scratch/e1350261/venvs/ai39/lib64/python3.9/site-packages/numpy/core/fromnumeric.py:88: RuntimeWarning: overflow encountered in reduce\n",
      "  return ufunc.reduce(obj, axis, dtype, out, **passkwargs)\n",
      "/scratch/e1350261/venvs/ai39/lib64/python3.9/site-packages/numpy/core/fromnumeric.py:88: RuntimeWarning: overflow encountered in reduce\n",
      "  return ufunc.reduce(obj, axis, dtype, out, **passkwargs)\n",
      "/scratch/e1350261/venvs/ai39/lib64/python3.9/site-packages/numpy/core/fromnumeric.py:88: RuntimeWarning: overflow encountered in reduce\n",
      "  return ufunc.reduce(obj, axis, dtype, out, **passkwargs)\n"
     ]
    },
    {
     "name": "stderr",
     "output_type": "stream",
     "text": [
      " 34%|███▍      | 175/511 [00:02<00:03, 98.19it/s] "
     ]
    },
    {
     "name": "stdout",
     "output_type": "stream",
     "text": [
      "/scratch/e1350261/venvs/ai39/lib64/python3.9/site-packages/numpy/core/fromnumeric.py:88: RuntimeWarning: overflow encountered in reduce\n",
      "  return ufunc.reduce(obj, axis, dtype, out, **passkwargs)\n",
      "/scratch/e1350261/venvs/ai39/lib64/python3.9/site-packages/numpy/core/fromnumeric.py:88: RuntimeWarning: overflow encountered in reduce\n",
      "  return ufunc.reduce(obj, axis, dtype, out, **passkwargs)\n"
     ]
    },
    {
     "name": "stderr",
     "output_type": "stream",
     "text": [
      " 40%|████      | 206/511 [00:03<00:03, 85.67it/s]"
     ]
    },
    {
     "name": "stdout",
     "output_type": "stream",
     "text": [
      "/scratch/e1350261/venvs/ai39/lib64/python3.9/site-packages/numpy/core/fromnumeric.py:88: RuntimeWarning: overflow encountered in reduce\n",
      "  return ufunc.reduce(obj, axis, dtype, out, **passkwargs)\n",
      "/scratch/e1350261/venvs/ai39/lib64/python3.9/site-packages/numpy/core/fromnumeric.py:88: RuntimeWarning: overflow encountered in reduce\n",
      "  return ufunc.reduce(obj, axis, dtype, out, **passkwargs)\n"
     ]
    },
    {
     "name": "stderr",
     "output_type": "stream",
     "text": [
      " 43%|████▎     | 218/511 [00:04<00:05, 51.77it/s]"
     ]
    },
    {
     "name": "stdout",
     "output_type": "stream",
     "text": [
      "/scratch/e1350261/venvs/ai39/lib64/python3.9/site-packages/numpy/core/fromnumeric.py:88: RuntimeWarning: overflow encountered in reduce\n",
      "  return ufunc.reduce(obj, axis, dtype, out, **passkwargs)\n",
      "/scratch/e1350261/venvs/ai39/lib64/python3.9/site-packages/numpy/core/fromnumeric.py:88: RuntimeWarning: overflow encountered in reduce\n",
      "  return ufunc.reduce(obj, axis, dtype, out, **passkwargs)\n"
     ]
    },
    {
     "name": "stderr",
     "output_type": "stream",
     "text": [
      " 59%|█████▉    | 301/511 [00:04<00:01, 106.99it/s]"
     ]
    },
    {
     "name": "stdout",
     "output_type": "stream",
     "text": [
      "/scratch/e1350261/venvs/ai39/lib64/python3.9/site-packages/numpy/core/fromnumeric.py:88: RuntimeWarning: overflow encountered in reduce\n",
      "  return ufunc.reduce(obj, axis, dtype, out, **passkwargs)\n",
      "/scratch/e1350261/venvs/ai39/lib64/python3.9/site-packages/numpy/core/fromnumeric.py:88: RuntimeWarning: overflow encountered in reduce\n",
      "  return ufunc.reduce(obj, axis, dtype, out, **passkwargs)\n"
     ]
    },
    {
     "name": "stderr",
     "output_type": "stream",
     "text": [
      " 74%|███████▍  | 380/511 [00:06<00:02, 53.02it/s] "
     ]
    },
    {
     "name": "stdout",
     "output_type": "stream",
     "text": [
      "/scratch/e1350261/venvs/ai39/lib64/python3.9/site-packages/numpy/core/fromnumeric.py:88: RuntimeWarning: overflow encountered in reduce\n",
      "  return ufunc.reduce(obj, axis, dtype, out, **passkwargs)\n",
      "/scratch/e1350261/venvs/ai39/lib64/python3.9/site-packages/numpy/core/fromnumeric.py:88: RuntimeWarning: overflow encountered in reduce\n",
      "  return ufunc.reduce(obj, axis, dtype, out, **passkwargs)\n",
      "/scratch/e1350261/venvs/ai39/lib64/python3.9/site-packages/numpy/core/fromnumeric.py:88: RuntimeWarning: overflow encountered in reduce\n",
      "  return ufunc.reduce(obj, axis, dtype, out, **passkwargs)\n",
      "/scratch/e1350261/venvs/ai39/lib64/python3.9/site-packages/numpy/core/fromnumeric.py:88: RuntimeWarning: overflow encountered in reduce\n",
      "  return ufunc.reduce(obj, axis, dtype, out, **passkwargs)\n"
     ]
    },
    {
     "name": "stderr",
     "output_type": "stream",
     "text": [
      "100%|██████████| 511/511 [00:07<00:00, 71.61it/s]"
     ]
    },
    {
     "name": "stdout",
     "output_type": "stream",
     "text": [
      "/scratch/e1350261/venvs/ai39/lib64/python3.9/site-packages/numpy/core/fromnumeric.py:88: RuntimeWarning: overflow encountered in reduce\n",
      "  return ufunc.reduce(obj, axis, dtype, out, **passkwargs)\n",
      "/scratch/e1350261/venvs/ai39/lib64/python3.9/site-packages/numpy/core/fromnumeric.py:88: RuntimeWarning: overflow encountered in reduce\n",
      "  return ufunc.reduce(obj, axis, dtype, out, **passkwargs)\n",
      "/scratch/e1350261/venvs/ai39/lib64/python3.9/site-packages/numpy/core/fromnumeric.py:88: RuntimeWarning: overflow encountered in reduce\n",
      "  return ufunc.reduce(obj, axis, dtype, out, **passkwargs)\n",
      "/scratch/e1350261/venvs/ai39/lib64/python3.9/site-packages/numpy/core/fromnumeric.py:88: RuntimeWarning: overflow encountered in reduce\n",
      "  return ufunc.reduce(obj, axis, dtype, out, **passkwargs)\n",
      "/scratch/e1350261/venvs/ai39/lib64/python3.9/site-packages/numpy/core/fromnumeric.py:88: RuntimeWarning: overflow encountered in reduce\n",
      "  return ufunc.reduce(obj, axis, dtype, out, **passkwargs)\n",
      "/scratch/e1350261/venvs/ai39/lib64/python3.9/site-packages/numpy/core/fromnumeric.py:88: RuntimeWarning: overflow encountered in reduce\n",
      "  return ufunc.reduce(obj, axis, dtype, out, **passkwargs)\n",
      "/scratch/e1350261/venvs/ai39/lib64/python3.9/site-packages/numpy/core/fromnumeric.py:88: RuntimeWarning: overflow encountered in reduce\n",
      "  return ufunc.reduce(obj, axis, dtype, out, **passkwargs)\n",
      "/scratch/e1350261/venvs/ai39/lib64/python3.9/site-packages/numpy/core/fromnumeric.py:88: RuntimeWarning: overflow encountered in reduce\n",
      "  return ufunc.reduce(obj, axis, dtype, out, **passkwargs)\n",
      "Computed 1613 Mordred descriptors for 511 valid molecules.\n"
     ]
    },
    {
     "name": "stderr",
     "output_type": "stream",
     "text": [
      "\n"
     ]
    }
   ],
   "source": [
    "features, valid_indices = compute_mordred_features(data_xgboost[\"SMILES\"].tolist())"
   ]
  },
  {
   "cell_type": "code",
   "execution_count": 20,
   "id": "56a76016",
   "metadata": {},
   "outputs": [],
   "source": [
    "features_df = pd.DataFrame(features, index=valid_indices)"
   ]
  },
  {
   "cell_type": "code",
   "execution_count": 21,
   "id": "babb4058",
   "metadata": {},
   "outputs": [
    {
     "name": "stdout",
     "output_type": "stream",
     "text": [
      "511\n",
      "<class 'pandas.core.frame.DataFrame'>\n"
     ]
    },
    {
     "data": {
      "text/html": [
       "<div>\n",
       "<style scoped>\n",
       "    .dataframe tbody tr th:only-of-type {\n",
       "        vertical-align: middle;\n",
       "    }\n",
       "\n",
       "    .dataframe tbody tr th {\n",
       "        vertical-align: top;\n",
       "    }\n",
       "\n",
       "    .dataframe thead th {\n",
       "        text-align: right;\n",
       "    }\n",
       "</style>\n",
       "<table border=\"1\" class=\"dataframe\">\n",
       "  <thead>\n",
       "    <tr style=\"text-align: right;\">\n",
       "      <th></th>\n",
       "      <th>ABC</th>\n",
       "      <th>ABCGG</th>\n",
       "      <th>nAcid</th>\n",
       "      <th>nBase</th>\n",
       "      <th>SpAbs_A</th>\n",
       "      <th>SpMax_A</th>\n",
       "      <th>SpDiam_A</th>\n",
       "      <th>SpAD_A</th>\n",
       "      <th>SpMAD_A</th>\n",
       "      <th>LogEE_A</th>\n",
       "      <th>...</th>\n",
       "      <th>SRW10</th>\n",
       "      <th>TSRW10</th>\n",
       "      <th>MW</th>\n",
       "      <th>AMW</th>\n",
       "      <th>WPath</th>\n",
       "      <th>WPol</th>\n",
       "      <th>Zagreb1</th>\n",
       "      <th>Zagreb2</th>\n",
       "      <th>mZagreb1</th>\n",
       "      <th>mZagreb2</th>\n",
       "    </tr>\n",
       "  </thead>\n",
       "  <tbody>\n",
       "    <tr>\n",
       "      <th>0</th>\n",
       "      <td>module 'numpy' has no attribute 'float'.\\n`np....</td>\n",
       "      <td>module 'numpy' has no attribute 'float'.\\n`np....</td>\n",
       "      <td>0</td>\n",
       "      <td>0</td>\n",
       "      <td>17.515413</td>\n",
       "      <td>2.155647</td>\n",
       "      <td>4.311293</td>\n",
       "      <td>17.515413</td>\n",
       "      <td>1.167694</td>\n",
       "      <td>3.542772</td>\n",
       "      <td>...</td>\n",
       "      <td>8.794673</td>\n",
       "      <td>45.016869</td>\n",
       "      <td>185.080041</td>\n",
       "      <td>7.118463</td>\n",
       "      <td>450</td>\n",
       "      <td>16</td>\n",
       "      <td>62.0</td>\n",
       "      <td>64.0</td>\n",
       "      <td>7.694444</td>\n",
       "      <td>3.611111</td>\n",
       "    </tr>\n",
       "    <tr>\n",
       "      <th>1</th>\n",
       "      <td>module 'numpy' has no attribute 'float'.\\n`np....</td>\n",
       "      <td>module 'numpy' has no attribute 'float'.\\n`np....</td>\n",
       "      <td>0</td>\n",
       "      <td>0</td>\n",
       "      <td>19.675903</td>\n",
       "      <td>1.965946</td>\n",
       "      <td>3.931892</td>\n",
       "      <td>19.675903</td>\n",
       "      <td>1.229744</td>\n",
       "      <td>3.583262</td>\n",
       "      <td>...</td>\n",
       "      <td>8.089789</td>\n",
       "      <td>44.454249</td>\n",
       "      <td>268.044785</td>\n",
       "      <td>7.445688</td>\n",
       "      <td>680</td>\n",
       "      <td>13</td>\n",
       "      <td>58.0</td>\n",
       "      <td>56.0</td>\n",
       "      <td>5.500000</td>\n",
       "      <td>4.250000</td>\n",
       "    </tr>\n",
       "    <tr>\n",
       "      <th>2</th>\n",
       "      <td>module 'numpy' has no attribute 'float'.\\n`np....</td>\n",
       "      <td>module 'numpy' has no attribute 'float'.\\n`np....</td>\n",
       "      <td>0</td>\n",
       "      <td>0</td>\n",
       "      <td>14.592460</td>\n",
       "      <td>1.941884</td>\n",
       "      <td>3.883767</td>\n",
       "      <td>14.592460</td>\n",
       "      <td>1.216038</td>\n",
       "      <td>3.291100</td>\n",
       "      <td>...</td>\n",
       "      <td>7.720018</td>\n",
       "      <td>38.766486</td>\n",
       "      <td>138.140851</td>\n",
       "      <td>4.604695</td>\n",
       "      <td>286</td>\n",
       "      <td>9</td>\n",
       "      <td>42.0</td>\n",
       "      <td>40.0</td>\n",
       "      <td>4.500000</td>\n",
       "      <td>3.250000</td>\n",
       "    </tr>\n",
       "    <tr>\n",
       "      <th>3</th>\n",
       "      <td>module 'numpy' has no attribute 'float'.\\n`np....</td>\n",
       "      <td>module 'numpy' has no attribute 'float'.\\n`np....</td>\n",
       "      <td>0</td>\n",
       "      <td>0</td>\n",
       "      <td>48.658482</td>\n",
       "      <td>2.310942</td>\n",
       "      <td>4.621884</td>\n",
       "      <td>48.658482</td>\n",
       "      <td>1.280486</td>\n",
       "      <td>4.510102</td>\n",
       "      <td>...</td>\n",
       "      <td>10.071076</td>\n",
       "      <td>73.581233</td>\n",
       "      <td>494.241687</td>\n",
       "      <td>6.864468</td>\n",
       "      <td>7075</td>\n",
       "      <td>51</td>\n",
       "      <td>174.0</td>\n",
       "      <td>192.0</td>\n",
       "      <td>12.888889</td>\n",
       "      <td>9.027778</td>\n",
       "    </tr>\n",
       "    <tr>\n",
       "      <th>4</th>\n",
       "      <td>module 'numpy' has no attribute 'float'.\\n`np....</td>\n",
       "      <td>module 'numpy' has no attribute 'float'.\\n`np....</td>\n",
       "      <td>0</td>\n",
       "      <td>0</td>\n",
       "      <td>43.768312</td>\n",
       "      <td>2.509944</td>\n",
       "      <td>4.904268</td>\n",
       "      <td>43.768312</td>\n",
       "      <td>1.287303</td>\n",
       "      <td>4.448235</td>\n",
       "      <td>...</td>\n",
       "      <td>10.346088</td>\n",
       "      <td>86.051345</td>\n",
       "      <td>466.174870</td>\n",
       "      <td>7.283982</td>\n",
       "      <td>3815</td>\n",
       "      <td>50</td>\n",
       "      <td>174.0</td>\n",
       "      <td>203.0</td>\n",
       "      <td>10.111111</td>\n",
       "      <td>7.722222</td>\n",
       "    </tr>\n",
       "  </tbody>\n",
       "</table>\n",
       "<p>5 rows × 1613 columns</p>\n",
       "</div>"
      ],
      "text/plain": [
       "                                                 ABC  \\\n",
       "0  module 'numpy' has no attribute 'float'.\\n`np....   \n",
       "1  module 'numpy' has no attribute 'float'.\\n`np....   \n",
       "2  module 'numpy' has no attribute 'float'.\\n`np....   \n",
       "3  module 'numpy' has no attribute 'float'.\\n`np....   \n",
       "4  module 'numpy' has no attribute 'float'.\\n`np....   \n",
       "\n",
       "                                               ABCGG  nAcid  nBase    SpAbs_A  \\\n",
       "0  module 'numpy' has no attribute 'float'.\\n`np....      0      0  17.515413   \n",
       "1  module 'numpy' has no attribute 'float'.\\n`np....      0      0  19.675903   \n",
       "2  module 'numpy' has no attribute 'float'.\\n`np....      0      0  14.592460   \n",
       "3  module 'numpy' has no attribute 'float'.\\n`np....      0      0  48.658482   \n",
       "4  module 'numpy' has no attribute 'float'.\\n`np....      0      0  43.768312   \n",
       "\n",
       "    SpMax_A  SpDiam_A     SpAD_A   SpMAD_A   LogEE_A  ...      SRW10  \\\n",
       "0  2.155647  4.311293  17.515413  1.167694  3.542772  ...   8.794673   \n",
       "1  1.965946  3.931892  19.675903  1.229744  3.583262  ...   8.089789   \n",
       "2  1.941884  3.883767  14.592460  1.216038  3.291100  ...   7.720018   \n",
       "3  2.310942  4.621884  48.658482  1.280486  4.510102  ...  10.071076   \n",
       "4  2.509944  4.904268  43.768312  1.287303  4.448235  ...  10.346088   \n",
       "\n",
       "      TSRW10          MW       AMW  WPath  WPol  Zagreb1  Zagreb2   mZagreb1  \\\n",
       "0  45.016869  185.080041  7.118463    450    16     62.0     64.0   7.694444   \n",
       "1  44.454249  268.044785  7.445688    680    13     58.0     56.0   5.500000   \n",
       "2  38.766486  138.140851  4.604695    286     9     42.0     40.0   4.500000   \n",
       "3  73.581233  494.241687  6.864468   7075    51    174.0    192.0  12.888889   \n",
       "4  86.051345  466.174870  7.283982   3815    50    174.0    203.0  10.111111   \n",
       "\n",
       "   mZagreb2  \n",
       "0  3.611111  \n",
       "1  4.250000  \n",
       "2  3.250000  \n",
       "3  9.027778  \n",
       "4  7.722222  \n",
       "\n",
       "[5 rows x 1613 columns]"
      ]
     },
     "execution_count": 21,
     "metadata": {},
     "output_type": "execute_result"
    }
   ],
   "source": [
    "print(len(valid_indices))\n",
    "print(type(features_df))\n",
    "features_df.head(5)"
   ]
  },
  {
   "cell_type": "code",
   "execution_count": 22,
   "id": "0012de6e",
   "metadata": {},
   "outputs": [],
   "source": [
    "# 检查每列的数据类型占比\n",
    "for col in features_df.columns:\n",
    "    unique_types = features_df[col].map(type).value_counts()\n",
    "    if any(unique_types.index == str):\n",
    "        print(f\"{col} contains string values: {unique_types[str]}\")"
   ]
  },
  {
   "cell_type": "code",
   "execution_count": null,
   "id": "4775f530",
   "metadata": {},
   "outputs": [],
   "source": []
  }
 ],
 "metadata": {
  "kernelspec": {
   "display_name": "Python 3.9 (ai39)",
   "language": "python",
   "name": "ai39"
  },
  "language_info": {
   "codemirror_mode": {
    "name": "ipython",
    "version": 3
   },
   "file_extension": ".py",
   "mimetype": "text/x-python",
   "name": "python",
   "nbconvert_exporter": "python",
   "pygments_lexer": "ipython3",
   "version": "3.9.18"
  },
  "vscode": {
   "interpreter": {
    "hash": "e7370f93d1d0cde622a1f8e1c04877d8463912d04d973331ad4851f04de6915a"
   }
  }
 },
 "nbformat": 4,
 "nbformat_minor": 5
}
